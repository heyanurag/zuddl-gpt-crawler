{
  "cells": [
    {
      "cell_type": "code",
      "execution_count": 2,
      "metadata": {},
      "outputs": [
        {
          "name": "stderr",
          "output_type": "stream",
          "text": [
            "670.43s - pydevd: Sending message related to process being replaced timed-out after 5 seconds\n"
          ]
        },
        {
          "name": "stdout",
          "output_type": "stream",
          "text": [
            "Requirement already satisfied: aiohttp==3.8.4 in ./.venv/lib/python3.8/site-packages (from -r requirements.txt (line 1)) (3.8.4)\n",
            "Requirement already satisfied: aiosignal==1.3.1 in ./.venv/lib/python3.8/site-packages (from -r requirements.txt (line 2)) (1.3.1)\n",
            "Requirement already satisfied: anyio==3.6.2 in ./.venv/lib/python3.8/site-packages (from -r requirements.txt (line 3)) (3.6.2)\n",
            "Requirement already satisfied: argon2-cffi==21.3.0 in ./.venv/lib/python3.8/site-packages (from -r requirements.txt (line 4)) (21.3.0)\n",
            "Requirement already satisfied: argon2-cffi-bindings==21.2.0 in ./.venv/lib/python3.8/site-packages (from -r requirements.txt (line 5)) (21.2.0)\n",
            "Requirement already satisfied: asttokens==2.2.1 in ./.venv/lib/python3.8/site-packages (from -r requirements.txt (line 6)) (2.2.1)\n",
            "Requirement already satisfied: async-timeout==4.0.2 in ./.venv/lib/python3.8/site-packages (from -r requirements.txt (line 7)) (4.0.2)\n",
            "Requirement already satisfied: attrs==23.1.0 in ./.venv/lib/python3.8/site-packages (from -r requirements.txt (line 8)) (23.1.0)\n",
            "Requirement already satisfied: backcall==0.2.0 in ./.venv/lib/python3.8/site-packages (from -r requirements.txt (line 9)) (0.2.0)\n",
            "Requirement already satisfied: beautifulsoup4==4.12.2 in ./.venv/lib/python3.8/site-packages (from -r requirements.txt (line 10)) (4.12.2)\n",
            "Requirement already satisfied: bleach==6.0.0 in ./.venv/lib/python3.8/site-packages (from -r requirements.txt (line 11)) (6.0.0)\n",
            "Requirement already satisfied: certifi==2023.5.7 in ./.venv/lib/python3.8/site-packages (from -r requirements.txt (line 12)) (2023.5.7)\n",
            "Requirement already satisfied: cffi==1.15.1 in ./.venv/lib/python3.8/site-packages (from -r requirements.txt (line 13)) (1.15.1)\n",
            "Requirement already satisfied: charset-normalizer==3.1.0 in ./.venv/lib/python3.8/site-packages (from -r requirements.txt (line 14)) (3.1.0)\n",
            "Requirement already satisfied: click==8.1.3 in ./.venv/lib/python3.8/site-packages (from -r requirements.txt (line 15)) (8.1.3)\n",
            "Requirement already satisfied: click-log==0.4.0 in ./.venv/lib/python3.8/site-packages (from -r requirements.txt (line 16)) (0.4.0)\n",
            "Requirement already satisfied: colorama==0.4.6 in ./.venv/lib/python3.8/site-packages (from -r requirements.txt (line 17)) (0.4.6)\n",
            "Requirement already satisfied: comm==0.1.3 in ./.venv/lib/python3.8/site-packages (from -r requirements.txt (line 18)) (0.1.3)\n",
            "Requirement already satisfied: contourpy==1.0.7 in ./.venv/lib/python3.8/site-packages (from -r requirements.txt (line 19)) (1.0.7)\n",
            "Requirement already satisfied: cryptography==40.0.2 in ./.venv/lib/python3.8/site-packages (from -r requirements.txt (line 20)) (40.0.2)\n",
            "Requirement already satisfied: cycler==0.11.0 in ./.venv/lib/python3.8/site-packages (from -r requirements.txt (line 21)) (0.11.0)\n",
            "Requirement already satisfied: dataclasses-json==0.5.7 in ./.venv/lib/python3.8/site-packages (from -r requirements.txt (line 22)) (0.5.7)\n",
            "Requirement already satisfied: debugpy==1.6.7 in ./.venv/lib/python3.8/site-packages (from -r requirements.txt (line 23)) (1.6.7)\n",
            "Requirement already satisfied: decorator==5.1.1 in ./.venv/lib/python3.8/site-packages (from -r requirements.txt (line 24)) (5.1.1)\n",
            "Requirement already satisfied: defusedxml==0.7.1 in ./.venv/lib/python3.8/site-packages (from -r requirements.txt (line 25)) (0.7.1)\n",
            "Requirement already satisfied: deprecation==2.1.0 in ./.venv/lib/python3.8/site-packages (from -r requirements.txt (line 26)) (2.1.0)\n",
            "Requirement already satisfied: docutils==0.20.1 in ./.venv/lib/python3.8/site-packages (from -r requirements.txt (line 27)) (0.20.1)\n",
            "Requirement already satisfied: dotty-dict==1.3.1 in ./.venv/lib/python3.8/site-packages (from -r requirements.txt (line 28)) (1.3.1)\n",
            "Requirement already satisfied: executing==1.2.0 in ./.venv/lib/python3.8/site-packages (from -r requirements.txt (line 29)) (1.2.0)\n",
            "Requirement already satisfied: fastjsonschema==2.17.1 in ./.venv/lib/python3.8/site-packages (from -r requirements.txt (line 30)) (2.17.1)\n",
            "Requirement already satisfied: fonttools==4.39.4 in ./.venv/lib/python3.8/site-packages (from -r requirements.txt (line 31)) (4.39.4)\n",
            "Requirement already satisfied: frozenlist==1.3.3 in ./.venv/lib/python3.8/site-packages (from -r requirements.txt (line 32)) (1.3.3)\n",
            "Requirement already satisfied: gitdb==4.0.10 in ./.venv/lib/python3.8/site-packages (from -r requirements.txt (line 33)) (4.0.10)\n",
            "Requirement already satisfied: GitPython==3.1.31 in ./.venv/lib/python3.8/site-packages (from -r requirements.txt (line 34)) (3.1.31)\n",
            "Requirement already satisfied: gotrue==1.0.1 in ./.venv/lib/python3.8/site-packages (from -r requirements.txt (line 35)) (1.0.1)\n",
            "Requirement already satisfied: greenlet==2.0.2 in ./.venv/lib/python3.8/site-packages (from -r requirements.txt (line 36)) (2.0.2)\n",
            "Requirement already satisfied: h11==0.14.0 in ./.venv/lib/python3.8/site-packages (from -r requirements.txt (line 37)) (0.14.0)\n",
            "Requirement already satisfied: httpcore==0.16.3 in ./.venv/lib/python3.8/site-packages (from -r requirements.txt (line 38)) (0.16.3)\n",
            "Requirement already satisfied: httpx==0.23.3 in ./.venv/lib/python3.8/site-packages (from -r requirements.txt (line 39)) (0.23.3)\n",
            "Requirement already satisfied: idna==3.4 in ./.venv/lib/python3.8/site-packages (from -r requirements.txt (line 40)) (3.4)\n",
            "Requirement already satisfied: importlib-metadata==6.6.0 in ./.venv/lib/python3.8/site-packages (from -r requirements.txt (line 41)) (6.6.0)\n",
            "Requirement already satisfied: importlib-resources==5.12.0 in ./.venv/lib/python3.8/site-packages (from -r requirements.txt (line 42)) (5.12.0)\n",
            "Requirement already satisfied: invoke==1.7.3 in ./.venv/lib/python3.8/site-packages (from -r requirements.txt (line 43)) (1.7.3)\n",
            "Requirement already satisfied: ipykernel==6.23.1 in ./.venv/lib/python3.8/site-packages (from -r requirements.txt (line 44)) (6.23.1)\n",
            "Requirement already satisfied: ipython==8.12.2 in ./.venv/lib/python3.8/site-packages (from -r requirements.txt (line 45)) (8.12.2)\n",
            "Requirement already satisfied: ipython-genutils==0.2.0 in ./.venv/lib/python3.8/site-packages (from -r requirements.txt (line 46)) (0.2.0)\n",
            "Requirement already satisfied: ipywidgets==8.0.6 in ./.venv/lib/python3.8/site-packages (from -r requirements.txt (line 47)) (8.0.6)\n",
            "Requirement already satisfied: jaraco.classes==3.2.3 in ./.venv/lib/python3.8/site-packages (from -r requirements.txt (line 48)) (3.2.3)\n",
            "Requirement already satisfied: jedi==0.18.2 in ./.venv/lib/python3.8/site-packages (from -r requirements.txt (line 49)) (0.18.2)\n",
            "Requirement already satisfied: jeepney==0.8.0 in ./.venv/lib/python3.8/site-packages (from -r requirements.txt (line 50)) (0.8.0)\n",
            "Requirement already satisfied: Jinja2==3.1.2 in ./.venv/lib/python3.8/site-packages (from -r requirements.txt (line 51)) (3.1.2)\n",
            "Requirement already satisfied: jsonschema==4.17.3 in ./.venv/lib/python3.8/site-packages (from -r requirements.txt (line 52)) (4.17.3)\n",
            "Requirement already satisfied: jupyter==1.0.0 in ./.venv/lib/python3.8/site-packages (from -r requirements.txt (line 53)) (1.0.0)\n",
            "Requirement already satisfied: jupyter-client==8.2.0 in ./.venv/lib/python3.8/site-packages (from -r requirements.txt (line 54)) (8.2.0)\n",
            "Requirement already satisfied: jupyter-console==6.6.3 in ./.venv/lib/python3.8/site-packages (from -r requirements.txt (line 55)) (6.6.3)\n",
            "Requirement already satisfied: jupyter-core==5.3.0 in ./.venv/lib/python3.8/site-packages (from -r requirements.txt (line 56)) (5.3.0)\n",
            "Requirement already satisfied: jupyter-events==0.6.3 in ./.venv/lib/python3.8/site-packages (from -r requirements.txt (line 57)) (0.6.3)\n",
            "Requirement already satisfied: jupyter-server==2.6.0 in ./.venv/lib/python3.8/site-packages (from -r requirements.txt (line 58)) (2.6.0)\n",
            "Requirement already satisfied: jupyter-server-terminals==0.4.4 in ./.venv/lib/python3.8/site-packages (from -r requirements.txt (line 59)) (0.4.4)\n",
            "Requirement already satisfied: jupyterlab-pygments==0.2.2 in ./.venv/lib/python3.8/site-packages (from -r requirements.txt (line 60)) (0.2.2)\n",
            "Requirement already satisfied: jupyterlab-widgets==3.0.7 in ./.venv/lib/python3.8/site-packages (from -r requirements.txt (line 61)) (3.0.7)\n",
            "Requirement already satisfied: keyring==23.13.1 in ./.venv/lib/python3.8/site-packages (from -r requirements.txt (line 62)) (23.13.1)\n",
            "Requirement already satisfied: kiwisolver==1.4.4 in ./.venv/lib/python3.8/site-packages (from -r requirements.txt (line 63)) (1.4.4)\n",
            "Requirement already satisfied: langchain==0.0.181 in ./.venv/lib/python3.8/site-packages (from -r requirements.txt (line 64)) (0.0.181)\n",
            "Requirement already satisfied: MarkupSafe==2.1.2 in ./.venv/lib/python3.8/site-packages (from -r requirements.txt (line 65)) (2.1.2)\n",
            "Requirement already satisfied: marshmallow==3.19.0 in ./.venv/lib/python3.8/site-packages (from -r requirements.txt (line 66)) (3.19.0)\n",
            "Requirement already satisfied: marshmallow-enum==1.5.1 in ./.venv/lib/python3.8/site-packages (from -r requirements.txt (line 67)) (1.5.1)\n",
            "Requirement already satisfied: matplotlib==3.7.1 in ./.venv/lib/python3.8/site-packages (from -r requirements.txt (line 68)) (3.7.1)\n",
            "Requirement already satisfied: matplotlib-inline==0.1.6 in ./.venv/lib/python3.8/site-packages (from -r requirements.txt (line 69)) (0.1.6)\n",
            "Requirement already satisfied: mistune==2.0.5 in ./.venv/lib/python3.8/site-packages (from -r requirements.txt (line 70)) (2.0.5)\n",
            "Requirement already satisfied: more-itertools==9.1.0 in ./.venv/lib/python3.8/site-packages (from -r requirements.txt (line 71)) (9.1.0)\n",
            "Requirement already satisfied: multidict==6.0.4 in ./.venv/lib/python3.8/site-packages (from -r requirements.txt (line 72)) (6.0.4)\n",
            "Requirement already satisfied: mypy-extensions==1.0.0 in ./.venv/lib/python3.8/site-packages (from -r requirements.txt (line 73)) (1.0.0)\n",
            "Requirement already satisfied: nbclassic==1.0.0 in ./.venv/lib/python3.8/site-packages (from -r requirements.txt (line 74)) (1.0.0)\n",
            "Requirement already satisfied: nbclient==0.8.0 in ./.venv/lib/python3.8/site-packages (from -r requirements.txt (line 75)) (0.8.0)\n",
            "Requirement already satisfied: nbconvert==7.4.0 in ./.venv/lib/python3.8/site-packages (from -r requirements.txt (line 76)) (7.4.0)\n",
            "Requirement already satisfied: nbformat==5.8.0 in ./.venv/lib/python3.8/site-packages (from -r requirements.txt (line 77)) (5.8.0)\n",
            "Requirement already satisfied: nest-asyncio==1.5.6 in ./.venv/lib/python3.8/site-packages (from -r requirements.txt (line 78)) (1.5.6)\n",
            "Requirement already satisfied: notebook==6.5.4 in ./.venv/lib/python3.8/site-packages (from -r requirements.txt (line 79)) (6.5.4)\n",
            "Requirement already satisfied: notebook-shim==0.2.3 in ./.venv/lib/python3.8/site-packages (from -r requirements.txt (line 80)) (0.2.3)\n",
            "Requirement already satisfied: numexpr==2.8.4 in ./.venv/lib/python3.8/site-packages (from -r requirements.txt (line 81)) (2.8.4)\n",
            "Requirement already satisfied: numpy==1.24.3 in ./.venv/lib/python3.8/site-packages (from -r requirements.txt (line 82)) (1.24.3)\n",
            "Requirement already satisfied: openai==0.27.7 in ./.venv/lib/python3.8/site-packages (from -r requirements.txt (line 83)) (0.27.7)\n",
            "Requirement already satisfied: openapi-schema-pydantic==1.2.4 in ./.venv/lib/python3.8/site-packages (from -r requirements.txt (line 84)) (1.2.4)\n",
            "Requirement already satisfied: overrides==7.3.1 in ./.venv/lib/python3.8/site-packages (from -r requirements.txt (line 85)) (7.3.1)\n",
            "Requirement already satisfied: packaging==23.1 in ./.venv/lib/python3.8/site-packages (from -r requirements.txt (line 86)) (23.1)\n",
            "Requirement already satisfied: pandas==2.0.1 in ./.venv/lib/python3.8/site-packages (from -r requirements.txt (line 87)) (2.0.1)\n",
            "Requirement already satisfied: pandocfilters==1.5.0 in ./.venv/lib/python3.8/site-packages (from -r requirements.txt (line 88)) (1.5.0)\n",
            "Requirement already satisfied: parso==0.8.3 in ./.venv/lib/python3.8/site-packages (from -r requirements.txt (line 89)) (0.8.3)\n",
            "Requirement already satisfied: pexpect==4.8.0 in ./.venv/lib/python3.8/site-packages (from -r requirements.txt (line 90)) (4.8.0)\n",
            "Requirement already satisfied: pickleshare==0.7.5 in ./.venv/lib/python3.8/site-packages (from -r requirements.txt (line 91)) (0.7.5)\n",
            "Requirement already satisfied: Pillow==9.5.0 in ./.venv/lib/python3.8/site-packages (from -r requirements.txt (line 92)) (9.5.0)\n",
            "Requirement already satisfied: pkginfo==1.9.6 in ./.venv/lib/python3.8/site-packages (from -r requirements.txt (line 93)) (1.9.6)\n",
            "Requirement already satisfied: pkgutil-resolve-name==1.3.10 in ./.venv/lib/python3.8/site-packages (from -r requirements.txt (line 94)) (1.3.10)\n",
            "Requirement already satisfied: platformdirs==3.5.1 in ./.venv/lib/python3.8/site-packages (from -r requirements.txt (line 95)) (3.5.1)\n",
            "Requirement already satisfied: postgrest==0.10.6 in ./.venv/lib/python3.8/site-packages (from -r requirements.txt (line 96)) (0.10.6)\n",
            "Requirement already satisfied: prometheus-client==0.17.0 in ./.venv/lib/python3.8/site-packages (from -r requirements.txt (line 97)) (0.17.0)\n",
            "Requirement already satisfied: prompt-toolkit==3.0.38 in ./.venv/lib/python3.8/site-packages (from -r requirements.txt (line 98)) (3.0.38)\n",
            "Requirement already satisfied: psutil==5.9.5 in ./.venv/lib/python3.8/site-packages (from -r requirements.txt (line 99)) (5.9.5)\n",
            "Requirement already satisfied: ptyprocess==0.7.0 in ./.venv/lib/python3.8/site-packages (from -r requirements.txt (line 100)) (0.7.0)\n",
            "Requirement already satisfied: pure-eval==0.2.2 in ./.venv/lib/python3.8/site-packages (from -r requirements.txt (line 101)) (0.2.2)\n",
            "Requirement already satisfied: pycparser==2.21 in ./.venv/lib/python3.8/site-packages (from -r requirements.txt (line 102)) (2.21)\n",
            "Requirement already satisfied: pydantic==1.10.8 in ./.venv/lib/python3.8/site-packages (from -r requirements.txt (line 103)) (1.10.8)\n",
            "Requirement already satisfied: Pygments==2.15.1 in ./.venv/lib/python3.8/site-packages (from -r requirements.txt (line 104)) (2.15.1)\n",
            "Requirement already satisfied: pyparsing==3.0.9 in ./.venv/lib/python3.8/site-packages (from -r requirements.txt (line 105)) (3.0.9)\n",
            "Requirement already satisfied: pyrsistent==0.19.3 in ./.venv/lib/python3.8/site-packages (from -r requirements.txt (line 106)) (0.19.3)\n",
            "Requirement already satisfied: python-dateutil==2.8.2 in ./.venv/lib/python3.8/site-packages (from -r requirements.txt (line 107)) (2.8.2)\n",
            "Requirement already satisfied: python-gitlab==3.14.0 in ./.venv/lib/python3.8/site-packages (from -r requirements.txt (line 108)) (3.14.0)\n",
            "Requirement already satisfied: python-json-logger==2.0.7 in ./.venv/lib/python3.8/site-packages (from -r requirements.txt (line 109)) (2.0.7)\n",
            "Requirement already satisfied: python-semantic-release==7.33.2 in ./.venv/lib/python3.8/site-packages (from -r requirements.txt (line 110)) (7.33.2)\n",
            "Requirement already satisfied: pytz==2023.3 in ./.venv/lib/python3.8/site-packages (from -r requirements.txt (line 111)) (2023.3)\n",
            "Requirement already satisfied: PyYAML==6.0 in ./.venv/lib/python3.8/site-packages (from -r requirements.txt (line 112)) (6.0)\n",
            "Requirement already satisfied: pyzmq==25.1.0 in ./.venv/lib/python3.8/site-packages (from -r requirements.txt (line 113)) (25.1.0)\n",
            "Requirement already satisfied: qtconsole==5.4.3 in ./.venv/lib/python3.8/site-packages (from -r requirements.txt (line 114)) (5.4.3)\n",
            "Requirement already satisfied: QtPy==2.3.1 in ./.venv/lib/python3.8/site-packages (from -r requirements.txt (line 115)) (2.3.1)\n",
            "Requirement already satisfied: readme-renderer==37.3 in ./.venv/lib/python3.8/site-packages (from -r requirements.txt (line 116)) (37.3)\n",
            "Requirement already satisfied: realtime==1.0.0 in ./.venv/lib/python3.8/site-packages (from -r requirements.txt (line 117)) (1.0.0)\n",
            "Requirement already satisfied: regex==2023.5.5 in ./.venv/lib/python3.8/site-packages (from -r requirements.txt (line 118)) (2023.5.5)\n",
            "Requirement already satisfied: requests==2.31.0 in ./.venv/lib/python3.8/site-packages (from -r requirements.txt (line 119)) (2.31.0)\n",
            "Requirement already satisfied: requests-toolbelt==1.0.0 in ./.venv/lib/python3.8/site-packages (from -r requirements.txt (line 120)) (1.0.0)\n",
            "Requirement already satisfied: rfc3339-validator==0.1.4 in ./.venv/lib/python3.8/site-packages (from -r requirements.txt (line 121)) (0.1.4)\n",
            "Requirement already satisfied: rfc3986==1.5.0 in ./.venv/lib/python3.8/site-packages (from -r requirements.txt (line 122)) (1.5.0)\n",
            "Requirement already satisfied: rfc3986-validator==0.1.1 in ./.venv/lib/python3.8/site-packages (from -r requirements.txt (line 123)) (0.1.1)\n",
            "Requirement already satisfied: SecretStorage==3.3.3 in ./.venv/lib/python3.8/site-packages (from -r requirements.txt (line 124)) (3.3.3)\n",
            "Requirement already satisfied: semver==2.13.0 in ./.venv/lib/python3.8/site-packages (from -r requirements.txt (line 125)) (2.13.0)\n",
            "Requirement already satisfied: Send2Trash==1.8.2 in ./.venv/lib/python3.8/site-packages (from -r requirements.txt (line 126)) (1.8.2)\n",
            "Requirement already satisfied: six==1.16.0 in ./.venv/lib/python3.8/site-packages (from -r requirements.txt (line 127)) (1.16.0)\n",
            "Requirement already satisfied: smmap==5.0.0 in ./.venv/lib/python3.8/site-packages (from -r requirements.txt (line 128)) (5.0.0)\n",
            "Requirement already satisfied: sniffio==1.3.0 in ./.venv/lib/python3.8/site-packages (from -r requirements.txt (line 129)) (1.3.0)\n",
            "Requirement already satisfied: soupsieve==2.4.1 in ./.venv/lib/python3.8/site-packages (from -r requirements.txt (line 130)) (2.4.1)\n",
            "Requirement already satisfied: SQLAlchemy==2.0.15 in ./.venv/lib/python3.8/site-packages (from -r requirements.txt (line 131)) (2.0.15)\n",
            "Requirement already satisfied: stack-data==0.6.2 in ./.venv/lib/python3.8/site-packages (from -r requirements.txt (line 132)) (0.6.2)\n",
            "Requirement already satisfied: storage3==0.5.2 in ./.venv/lib/python3.8/site-packages (from -r requirements.txt (line 133)) (0.5.2)\n",
            "Requirement already satisfied: StrEnum==0.4.10 in ./.venv/lib/python3.8/site-packages (from -r requirements.txt (line 134)) (0.4.10)\n",
            "Requirement already satisfied: supabase==1.0.3 in ./.venv/lib/python3.8/site-packages (from -r requirements.txt (line 135)) (1.0.3)\n",
            "Requirement already satisfied: supafunc==0.2.2 in ./.venv/lib/python3.8/site-packages (from -r requirements.txt (line 136)) (0.2.2)\n",
            "Requirement already satisfied: tenacity==8.2.2 in ./.venv/lib/python3.8/site-packages (from -r requirements.txt (line 137)) (8.2.2)\n",
            "Requirement already satisfied: terminado==0.17.1 in ./.venv/lib/python3.8/site-packages (from -r requirements.txt (line 138)) (0.17.1)\n",
            "Requirement already satisfied: tiktoken==0.4.0 in ./.venv/lib/python3.8/site-packages (from -r requirements.txt (line 139)) (0.4.0)\n",
            "Requirement already satisfied: tinycss2==1.2.1 in ./.venv/lib/python3.8/site-packages (from -r requirements.txt (line 140)) (1.2.1)\n",
            "Requirement already satisfied: tomlkit==0.11.8 in ./.venv/lib/python3.8/site-packages (from -r requirements.txt (line 141)) (0.11.8)\n",
            "Requirement already satisfied: tornado==6.3.2 in ./.venv/lib/python3.8/site-packages (from -r requirements.txt (line 142)) (6.3.2)\n",
            "Requirement already satisfied: tqdm==4.65.0 in ./.venv/lib/python3.8/site-packages (from -r requirements.txt (line 143)) (4.65.0)\n",
            "Requirement already satisfied: traitlets==5.9.0 in ./.venv/lib/python3.8/site-packages (from -r requirements.txt (line 144)) (5.9.0)\n",
            "Requirement already satisfied: twine==3.8.0 in ./.venv/lib/python3.8/site-packages (from -r requirements.txt (line 145)) (3.8.0)\n",
            "Requirement already satisfied: typing-extensions==4.6.2 in ./.venv/lib/python3.8/site-packages (from -r requirements.txt (line 146)) (4.6.2)\n",
            "Requirement already satisfied: typing-inspect==0.9.0 in ./.venv/lib/python3.8/site-packages (from -r requirements.txt (line 147)) (0.9.0)\n",
            "Requirement already satisfied: tzdata==2023.3 in ./.venv/lib/python3.8/site-packages (from -r requirements.txt (line 148)) (2023.3)\n",
            "Requirement already satisfied: urllib3==2.0.2 in ./.venv/lib/python3.8/site-packages (from -r requirements.txt (line 149)) (2.0.2)\n",
            "Requirement already satisfied: wcwidth==0.2.6 in ./.venv/lib/python3.8/site-packages (from -r requirements.txt (line 150)) (0.2.6)\n",
            "Requirement already satisfied: webencodings==0.5.1 in ./.venv/lib/python3.8/site-packages (from -r requirements.txt (line 151)) (0.5.1)\n",
            "Requirement already satisfied: websocket-client==1.5.2 in ./.venv/lib/python3.8/site-packages (from -r requirements.txt (line 152)) (1.5.2)\n",
            "Requirement already satisfied: websockets==10.4 in ./.venv/lib/python3.8/site-packages (from -r requirements.txt (line 153)) (10.4)\n",
            "Requirement already satisfied: widgetsnbextension==4.0.7 in ./.venv/lib/python3.8/site-packages (from -r requirements.txt (line 154)) (4.0.7)\n",
            "Requirement already satisfied: yarl==1.9.2 in ./.venv/lib/python3.8/site-packages (from -r requirements.txt (line 155)) (1.9.2)\n",
            "Requirement already satisfied: zipp==3.15.0 in ./.venv/lib/python3.8/site-packages (from -r requirements.txt (line 156)) (3.15.0)\n",
            "Requirement already satisfied: wheel in ./.venv/lib/python3.8/site-packages (from python-semantic-release==7.33.2->-r requirements.txt (line 110)) (0.40.0)\n",
            "Note: you may need to restart the kernel to use updated packages.\n"
          ]
        }
      ],
      "source": [
        "%pip install -r requirements.txt"
      ]
    },
    {
      "cell_type": "code",
      "execution_count": 3,
      "metadata": {
        "id": "TpadklvbtyPP"
      },
      "outputs": [],
      "source": [
        "import os\n",
        "import re\n",
        "import shutil\n",
        "import requests\n",
        "import numpy as np\n",
        "import pandas as pd\n",
        "import urllib.request\n",
        "from bs4 import BeautifulSoup\n",
        "from collections import deque\n",
        "from html.parser import HTMLParser\n",
        "from urllib.parse import urlparse\n",
        "from typing import List, Dict, Union"
      ]
    },
    {
      "cell_type": "code",
      "execution_count": null,
      "metadata": {
        "id": "gf9P3bFUraMD"
      },
      "outputs": [],
      "source": [
        "# shutil.rmtree('text')\n",
        "# shutil.rmtree('processed')"
      ]
    },
    {
      "attachments": {},
      "cell_type": "markdown",
      "metadata": {},
      "source": [
        "Crawl zuddl knowledge base and text preprocessing"
      ]
    },
    {
      "cell_type": "code",
      "execution_count": null,
      "metadata": {
        "id": "9sHoKYbisR-8"
      },
      "outputs": [],
      "source": [
        "# Regex pattern to match a URL\n",
        "HTTP_URL_PATTERN = r'^http[s]*://.+'\n",
        "\n",
        "# Define root domain to crawl\n",
        "domain = \"help.zuddl.com\"\n",
        "full_url = \"https://help.zuddl.com/support/home\"\n",
        "\n",
        "Page = Dict[str, Union[str, Dict[str, str]]]\n",
        "PAGES: List[Page] = []\n",
        "\n",
        "# Create a class to parse the HTML and get the hyperlinks\n",
        "class HyperlinkParser(HTMLParser):\n",
        "    def __init__(self) -> None:\n",
        "        super().__init__()\n",
        "        # Create a list to store the hyperlinks\n",
        "        self.hyperlinks = []\n",
        "\n",
        "    # Override the HTMLParser's handle_starttag method to get the hyperlinks\n",
        "    def handle_starttag(self, tag, attrs) -> None:\n",
        "        attrs = dict(attrs)\n",
        "\n",
        "        # If the tag is an anchor tag and it has an href attribute, add the href attribute to the list of hyperlinks\n",
        "        if tag == \"a\" and \"href\" in attrs:\n",
        "            self.hyperlinks.append(attrs[\"href\"])\n",
        "\n",
        "# Function to get the hyperlinks from a URL\n",
        "def get_hyperlinks(url: str) -> List[str]:\n",
        "    \n",
        "    # Try to open the URL and read the HTML\n",
        "    try:\n",
        "        # Open the URL and read the HTML\n",
        "        with urllib.request.urlopen(url) as response:\n",
        "\n",
        "            # If the response is not HTML, return an empty list\n",
        "            if not response.info().get('Content-Type').startswith(\"text/html\"):\n",
        "                return []\n",
        "            \n",
        "            # Decode the HTML\n",
        "            html = response.read().decode('utf-8')\n",
        "    except Exception as e:\n",
        "        print(e)\n",
        "        return []\n",
        "\n",
        "    # Create the HTML Parser and then Parse the HTML to get hyperlinks\n",
        "    parser = HyperlinkParser()\n",
        "    parser.feed(html)\n",
        "\n",
        "    return parser.hyperlinks\n",
        "\n",
        "# Function to get the hyperlinks from a URL that are within the same domain\n",
        "def get_domain_hyperlinks(local_domain: str, url: str) -> List[str]:\n",
        "    clean_links = []\n",
        "    for link in set(get_hyperlinks(url)):\n",
        "        clean_link = None\n",
        "\n",
        "        # If the link is a URL, check if it is within the same domain\n",
        "        if re.search(HTTP_URL_PATTERN, link):\n",
        "            # Parse the URL and check if the domain is the same\n",
        "            url_obj = urlparse(link)\n",
        "            if url_obj.netloc == local_domain:\n",
        "                clean_link = link\n",
        "\n",
        "        # If the link is not a URL, check if it is a relative link\n",
        "        else:\n",
        "            if link.startswith(\"/\"):\n",
        "                link = link[1:]\n",
        "            elif link.startswith(\"#\") or link.startswith(\"mailto:\"):\n",
        "                continue\n",
        "            clean_link = \"https://\" + local_domain + \"/\" + link\n",
        "\n",
        "        if clean_link is not None:\n",
        "            if clean_link.endswith(\"/\"):\n",
        "                clean_link = clean_link[:-1]\n",
        "            clean_links.append(clean_link)\n",
        "\n",
        "    # Return the list of hyperlinks that are within the same domain\n",
        "    return list(set(clean_links))"
      ]
    },
    {
      "cell_type": "code",
      "execution_count": null,
      "metadata": {
        "id": "1bth8kEG4TkK"
      },
      "outputs": [],
      "source": [
        "def truncate_string(text: str) -> str:\n",
        "    end_index = text.find(\"Was this article helpful?\")\n",
        "    start_index = text.find(\"Sorry! nothing found for\") + 24\n",
        "\n",
        "    if start_index != -1 or end_index != -1:\n",
        "      return text[start_index:end_index]\n",
        "    if start_index != -1:\n",
        "      return text[:end_index]\n",
        "    if end_index != -1:\n",
        "      return text[start_index:]\n",
        "    \n",
        "    return text\n",
        "\n",
        "def remove_newlines(text: str) -> str:\n",
        "    text = text.replace('\\n', ' ')\n",
        "    text = text.replace('\\\\n', ' ')\n",
        "    text = text.replace('  ', ' ')\n",
        "    text = text.replace('  ', ' ')\n",
        "    return text\n",
        "\n",
        "def process_text(text: str) -> str:\n",
        "  text = remove_newlines(text)\n",
        "  text = truncate_string(text)\n",
        "  return text.strip()"
      ]
    },
    {
      "cell_type": "code",
      "execution_count": null,
      "metadata": {
        "id": "522JI1uyuNl0"
      },
      "outputs": [],
      "source": [
        "def crawl(url: str) -> None:\n",
        "    # Parse the URL and get the domain\n",
        "    local_domain = urlparse(url).netloc\n",
        "\n",
        "    # Create a queue to store the URLs to crawl\n",
        "    queue = deque([url])\n",
        "\n",
        "    # Create a set to store the URLs that have already been seen (no duplicates)\n",
        "    seen = set([url])\n",
        "\n",
        "    # Create a directory to store the text files\n",
        "    if not os.path.exists(\"text/\"):\n",
        "            os.mkdir(\"text/\")\n",
        "\n",
        "    if not os.path.exists(\"text/\"+local_domain+\"/\"):\n",
        "            os.mkdir(\"text/\" + local_domain + \"/\")\n",
        "\n",
        "    # Create a directory to store the csv files\n",
        "    if not os.path.exists(\"processed\"):\n",
        "            os.mkdir(\"processed\")\n",
        "\n",
        "    # While the queue is not empty, continue crawling\n",
        "    while queue:\n",
        "\n",
        "        # Get the next URL from the queue\n",
        "        url = queue.pop()\n",
        "\n",
        "        # Save text from the url to a <url>.txt file\n",
        "        with open('text/'+local_domain+'/'+url[8:].replace(\"/\", \"_\") + \".txt\", \"w\") as f:\n",
        "\n",
        "            # Get the text from the URL using BeautifulSoup\n",
        "            soup = BeautifulSoup(requests.get(url).text, \"html.parser\")\n",
        "\n",
        "            # Get the text but remove the tags\n",
        "            text = soup.get_text()\n",
        "\n",
        "            processed_text = process_text(text)\n",
        "\n",
        "            if soup.title:\n",
        "                title = str(soup.title.string).strip()\n",
        "            else:\n",
        "                title = \"\"\n",
        "            \n",
        "            print(f\"{title} - {url}\")\n",
        "\n",
        "            # If the crawler gets to a page that requires JavaScript, it will stop the crawl\n",
        "            if (\"You need to enable JavaScript to run this app.\" in text):\n",
        "                print(\"Unable to parse page \" + url + \" due to JavaScript being required\")\n",
        "            \n",
        "            # Otherwise, write the text to the file in the text directory\n",
        "            f.write(processed_text)\n",
        "            \n",
        "            PAGES.append({\n",
        "              'content': processed_text + '\\n\\n',\n",
        "              'metadata': {\n",
        "                'title': title,\n",
        "                'url': url\n",
        "              }\n",
        "            })\n",
        "\n",
        "        # Get the hyperlinks from the URL and add them to the queue\n",
        "        for link in get_domain_hyperlinks(local_domain, url):\n",
        "            if link not in seen:\n",
        "                queue.append(link)\n",
        "                seen.add(link)"
      ]
    },
    {
      "cell_type": "code",
      "execution_count": null,
      "metadata": {
        "colab": {
          "base_uri": "https://localhost:8080/"
        },
        "id": "BnBnHKgYuPzh",
        "outputId": "27cf1a44-cfa4-4e4a-a093-ba5398d1374c"
      },
      "outputs": [],
      "source": [
        "crawl(full_url)"
      ]
    },
    {
      "attachments": {},
      "cell_type": "markdown",
      "metadata": {},
      "source": [
        "Sample Metadata output"
      ]
    },
    {
      "cell_type": "code",
      "execution_count": null,
      "metadata": {
        "colab": {
          "base_uri": "https://localhost:8080/"
        },
        "id": "qfochjOAxFMJ",
        "outputId": "c8805425-f7cc-47b0-8d0a-5ab60541ac54"
      },
      "outputs": [],
      "source": [
        "print(PAGES[200]['metadata'])"
      ]
    },
    {
      "attachments": {},
      "cell_type": "markdown",
      "metadata": {},
      "source": [
        "Using tiktoken to estimate the total number of tokens"
      ]
    },
    {
      "cell_type": "code",
      "execution_count": null,
      "metadata": {
        "colab": {
          "base_uri": "https://localhost:8080/",
          "height": 448
        },
        "id": "7vdaje_DsR_M",
        "outputId": "01540700-8df6-4589-97ab-56fb416cd51b"
      },
      "outputs": [],
      "source": [
        "import tiktoken\n",
        "\n",
        "# Load the cl100k_base tokenizer which is designed to work with the ada-002 model\n",
        "tokenizer = tiktoken.get_encoding(\"cl100k_base\")\n",
        "\n",
        "data_modified = [\n",
        "    {\n",
        "        'title': d['metadata']['title'],\n",
        "        'url': d['metadata']['url'],\n",
        "        'content': d['content']\n",
        "    }\n",
        "    for d in PAGES\n",
        "]\n",
        "\n",
        "# Create DataFrame\n",
        "df_tokens = pd.DataFrame(data_modified)\n",
        "\n",
        "# Tokenize the text and save the number of tokens to a new column\n",
        "df_tokens['n_tokens'] = df_tokens.content.apply(lambda x: len(tokenizer.encode(x)))\n",
        "\n",
        "# Visualize the distribution of the number of tokens per row using a histogram\n",
        "df_tokens.n_tokens.hist()"
      ]
    },
    {
      "cell_type": "code",
      "execution_count": null,
      "metadata": {
        "colab": {
          "base_uri": "https://localhost:8080/",
          "height": 423
        },
        "id": "rfk465nx-GSZ",
        "outputId": "29a35487-d6e5-455a-a247-c334a9d89a1f"
      },
      "outputs": [],
      "source": [
        "df_tokens"
      ]
    },
    {
      "attachments": {},
      "cell_type": "markdown",
      "metadata": {},
      "source": [
        "Splitting the text into smaller chunks for efficiency"
      ]
    },
    {
      "cell_type": "code",
      "execution_count": null,
      "metadata": {
        "id": "t1bPI7A4Ecdx"
      },
      "outputs": [],
      "source": [
        "from langchain.text_splitter import TokenTextSplitter\n",
        "\n",
        "chunk_type = Dict[str, Union[str, int, List]]\n",
        "\n",
        "def chunk_data() -> List[chunk_type]:\n",
        "    text_splitter = TokenTextSplitter(encoding_name=\"cl100k_base\", chunk_size=500, chunk_overlap=100)\n",
        "\n",
        "    chunks = []\n",
        "\n",
        "    for page in PAGES:\n",
        "        splits = text_splitter.split_text(page['content'])\n",
        "\n",
        "        for split in splits:\n",
        "          chunks.append({\n",
        "              \"article_title\": page['metadata']['title'],\n",
        "              \"article_url\": page['metadata']['url'],\n",
        "              \"content\": split,\n",
        "              \"content_length\": len(split),\n",
        "              \"content_tokens\": len(tokenizer.encode(split)),\n",
        "              \"embedding\": []\n",
        "          })\n",
        "        print(f\"Splitted {page['metadata']['url']} into {len(splits)} chunks.\")\n",
        "\n",
        "    print(f'Total chunks created: {len(chunks)}.\\n')\n",
        "    return chunks"
      ]
    },
    {
      "cell_type": "code",
      "execution_count": null,
      "metadata": {
        "colab": {
          "base_uri": "https://localhost:8080/"
        },
        "id": "oUg6Gyc4Fz37",
        "outputId": "fa30a5a7-0450-4340-debd-02ea4c4ba956"
      },
      "outputs": [],
      "source": [
        "chunks = chunk_data()"
      ]
    },
    {
      "attachments": {},
      "cell_type": "markdown",
      "metadata": {},
      "source": [
        "Sample chunked object"
      ]
    },
    {
      "cell_type": "code",
      "execution_count": null,
      "metadata": {
        "colab": {
          "base_uri": "https://localhost:8080/"
        },
        "id": "l9TRm2ILicZQ",
        "outputId": "f0950bef-004d-4cfe-a6fe-babc6727e55c"
      },
      "outputs": [],
      "source": [
        "import json\n",
        "print(json.dumps(chunks[7], sort_keys=True, indent=4))"
      ]
    },
    {
      "attachments": {},
      "cell_type": "markdown",
      "metadata": {},
      "source": [
        "Distribution for number of tokens in the chunks dataframe"
      ]
    },
    {
      "cell_type": "code",
      "execution_count": null,
      "metadata": {
        "colab": {
          "base_uri": "https://localhost:8080/",
          "height": 448
        },
        "id": "q5WYesZjGWpQ",
        "outputId": "5f1b71e5-0ed3-48e3-a04c-671f27850706"
      },
      "outputs": [],
      "source": [
        "df_chunked = pd.DataFrame(chunks)\n",
        "\n",
        "# Visualize the distribution of the number of tokens per row using a histogram\n",
        "df_chunked.content_tokens.hist()"
      ]
    },
    {
      "cell_type": "code",
      "execution_count": null,
      "metadata": {
        "colab": {
          "base_uri": "https://localhost:8080/",
          "height": 467
        },
        "id": "_NX6pDpnHYmq",
        "outputId": "1097b71e-c5ed-4e29-941d-51610316d0e7"
      },
      "outputs": [],
      "source": [
        "df_chunked"
      ]
    },
    {
      "attachments": {},
      "cell_type": "markdown",
      "metadata": {},
      "source": [
        "Saving the dataframe as CSV and JSON"
      ]
    },
    {
      "cell_type": "code",
      "execution_count": null,
      "metadata": {
        "id": "eJfxEMRLkgH7"
      },
      "outputs": [],
      "source": [
        "df_chunked.to_csv('processed/chunks.csv', index=True)\n",
        "df_chunked.to_json('processed/chunks.json', orient='records', index=True)"
      ]
    },
    {
      "attachments": {},
      "cell_type": "markdown",
      "metadata": {},
      "source": [
        "Total number of tokens generated"
      ]
    },
    {
      "cell_type": "code",
      "execution_count": null,
      "metadata": {
        "colab": {
          "base_uri": "https://localhost:8080/"
        },
        "id": "dVmNQVWY2hUF",
        "outputId": "c68790d9-a817-4934-c5b1-faf653debf66"
      },
      "outputs": [],
      "source": [
        "df_chunked['content_tokens'].sum()"
      ]
    },
    {
      "attachments": {},
      "cell_type": "markdown",
      "metadata": {},
      "source": [
        "Generating embeddings using OpenAI embeddings API"
      ]
    },
    {
      "cell_type": "code",
      "execution_count": null,
      "metadata": {
        "colab": {
          "base_uri": "https://localhost:8080/",
          "height": 468
        },
        "id": "0YOn5vpbsR_O",
        "outputId": "5b9fe386-255c-4489-a5f2-2b7de0063750"
      },
      "outputs": [],
      "source": [
        "import openai\n",
        "\n",
        "openai.api_key = os.environ.get('OPENAI_API_KEY')\n",
        "\n",
        "def create_embedding(text: str):\n",
        "    response = openai.Embedding.create(\n",
        "        input = text,\n",
        "        model = 'text-embedding-ada-002'\n",
        "    )\n",
        "\n",
        "    print(f\"response: {response}\")\n",
        "\n",
        "    embedding = response['data'][0]['embedding']\n",
        "    \n",
        "    print(f\"embedding: {embedding}\")\n",
        "\n",
        "    with open('processed/embeds.txt', 'a') as f1:\n",
        "        f1.write(str(embedding) + '\\n\\n')\n",
        "\n",
        "    with open('processed/response.txt', 'a') as f0:\n",
        "        f0.write(text + '\\n' + str(response) + '\\n\\n\\n')\n",
        "\n",
        "    return embedding"
      ]
    },
    {
      "cell_type": "code",
      "execution_count": null,
      "metadata": {
        "id": "LC69GDo8sR_P",
        "outputId": "0e910901-d468-4025-ccbe-161c33fb96de"
      },
      "outputs": [],
      "source": [
        "for i, row in df_chunked.iterrows():\n",
        "  print(f\"Processing row {i} of {len(df_chunked)}\")\n",
        "  \n",
        "  embedding = create_embedding(row[\"content\"])\n",
        "\n",
        "  if embedding:\n",
        "    df_chunked.at[i, \"embedding\"] = embedding"
      ]
    },
    {
      "cell_type": "code",
      "execution_count": null,
      "metadata": {},
      "outputs": [],
      "source": [
        "df_chunked"
      ]
    },
    {
      "attachments": {},
      "cell_type": "markdown",
      "metadata": {},
      "source": [
        "Saving the dataframe as CSV and JSON"
      ]
    },
    {
      "cell_type": "code",
      "execution_count": null,
      "metadata": {},
      "outputs": [],
      "source": [
        "df_chunked.to_csv('processed/chunks_with_embeds.csv', index=True)\n",
        "df_chunked.to_json('processed/chunks_with_embeds.json', orient='records', index=True)"
      ]
    },
    {
      "attachments": {},
      "cell_type": "markdown",
      "metadata": {},
      "source": [
        "Saving the dataframe to postgres database"
      ]
    },
    {
      "cell_type": "code",
      "execution_count": null,
      "metadata": {},
      "outputs": [],
      "source": [
        "from supabase import create_client, Client\n",
        "\n",
        "url: str = os.environ.get(\"SUPABASE_URL\")\n",
        "key: str = os.environ.get(\"SUPABASE_KEY\")\n",
        "supabase: Client = create_client(url, key)"
      ]
    },
    {
      "cell_type": "code",
      "execution_count": null,
      "metadata": {},
      "outputs": [],
      "source": [
        "def insert_articles(row) -> None:\n",
        "\t\t\n",
        "\t\tdata, count = supabase.table('articles').insert({\n",
        "\t\t\t\"article_title\": row[\"article_title\"],\n",
        "\t\t\t\"article_url\": row[\"article_url\"],\n",
        "\t\t\t\"content_length\": row[\"content_length\"],\n",
        "\t\t\t\"content_tokens\": row[\"content_tokens\"],\n",
        "\t\t\t\"content\": row[\"content\"],\n",
        "\t\t\t\"embedding\": row[\"embedding\"],\n",
        "\t\t\t}).execute()\n",
        "\t\t\n",
        "\t\tprint(f\"API response: {data}, {count}\\n\")"
      ]
    },
    {
      "cell_type": "code",
      "execution_count": null,
      "metadata": {},
      "outputs": [],
      "source": [
        "for i, row in df_chunked.iterrows():\n",
        "\tprint(f\"Inserting row {i} of {len(df_chunked)}\")\n",
        "\tinsert_articles(row)"
      ]
    }
  ],
  "metadata": {
    "colab": {
      "provenance": []
    },
    "kernelspec": {
      "display_name": "env",
      "language": "python",
      "name": "python3"
    },
    "language_info": {
      "codemirror_mode": {
        "name": "ipython",
        "version": 3
      },
      "file_extension": ".py",
      "mimetype": "text/x-python",
      "name": "python",
      "nbconvert_exporter": "python",
      "pygments_lexer": "ipython3",
      "version": "3.8.10"
    },
    "orig_nbformat": 4,
    "vscode": {
      "interpreter": {
        "hash": "05f34a34d73b71652304030c1097be3a5720ea2447153dd6542d145a26b73181"
      }
    }
  },
  "nbformat": 4,
  "nbformat_minor": 0
}
